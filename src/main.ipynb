{
 "cells": [
  {
   "cell_type": "code",
   "execution_count": 1,
   "metadata": {},
   "outputs": [
    {
     "name": "stderr",
     "output_type": "stream",
     "text": [
      "The cache for model files in Transformers v4.22.0 has been updated. Migrating your old cache. This is a one-time only operation. You can interrupt this and resume the migration later on by calling `transformers.utils.move_cache()`.\n"
     ]
    },
    {
     "data": {
      "application/vnd.jupyter.widget-view+json": {
       "model_id": "0df4a6a8cf2142f19279bb87fa221b5f",
       "version_major": 2,
       "version_minor": 0
      },
      "text/plain": [
       "0it [00:00, ?it/s]"
      ]
     },
     "metadata": {},
     "output_type": "display_data"
    }
   ],
   "source": [
    "import torch\n",
    "from PIL import Image\n",
    "import open_clip"
   ]
  },
  {
   "cell_type": "markdown",
   "metadata": {},
   "source": [
    "## Prepare Dataset"
   ]
  },
  {
   "cell_type": "code",
   "execution_count": 2,
   "metadata": {},
   "outputs": [],
   "source": [
    "from datasets import load_dataset\n",
    "dataset = load_dataset(\"nyu-mll/glue\", \"mrpc\")"
   ]
  },
  {
   "cell_type": "code",
   "execution_count": 3,
   "metadata": {},
   "outputs": [
    {
     "name": "stdout",
     "output_type": "stream",
     "text": [
      "{'sentence1': \"PCCW 's chief operating officer , Mike Butcher , and Alex Arena , the chief financial officer , will report directly to Mr So .\", 'sentence2': 'Current Chief Operating Officer Mike Butcher and Group Chief Financial Officer Alex Arena will report to So .', 'label': 1, 'idx': 0}\n"
     ]
    }
   ],
   "source": [
    "print(dataset['test'][0])"
   ]
  },
  {
   "cell_type": "markdown",
   "metadata": {},
   "source": [
    "## Prepare Model\n",
    "we use pretrained model for tests"
   ]
  },
  {
   "cell_type": "code",
   "execution_count": 4,
   "metadata": {},
   "outputs": [],
   "source": [
    "\n",
    "model, _, preprocess = open_clip.create_model_and_transforms('RN50', pretrained='openai')\n",
    "tokenizer = open_clip.get_tokenizer('RN50')"
   ]
  },
  {
   "cell_type": "markdown",
   "metadata": {},
   "source": [
    "## Tests"
   ]
  },
  {
   "cell_type": "code",
   "execution_count": 10,
   "metadata": {},
   "outputs": [],
   "source": [
    "from torch.nn.functional import cosine_similarity\n",
    "from sklearn.metrics import confusion_matrix"
   ]
  },
  {
   "cell_type": "code",
   "execution_count": null,
   "metadata": {},
   "outputs": [],
   "source": [
    "def run_tests(dataset,n):\n",
    "    result = {\"index\":[],\"recall\":[],\"precision\":[]}\n",
    "    for i in range(n):\n",
    "        threshold = 0.9\n",
    "        prediction = []\n",
    "        actual = []\n",
    "        for test_case in dataset['test']:   \n",
    "\n",
    "            tokenized_text_1 = tokenizer([test_case['sentence1']])\n",
    "            tokenized_text_2 = tokenizer([test_case['sentence2']])\n",
    "\n",
    "            with torch.no_grad(), torch.cuda.amp.autocast():\n",
    "                text_embedding_1 = model.encode_text(tokenized_text_1)\n",
    "                text_embedding_2 = model.encode_text(tokenized_text_2)\n",
    "\n",
    "            if cosine_similarity(text_embedding_1,text_embedding_2) < 0.9:\n",
    "                prediction.append(-1)\n",
    "            else:\n",
    "                prediction.append(1)\n",
    "            actual.append(test_case['label'])\n",
    "\n",
    "\n",
    "        cm = confusion_matrix(actual,prediction)\n",
    "        tn, fp, fn, tp =  [i for i in cm.ravel() if i != 0]\n",
    "        recall = tp / (tp + fn)       \n",
    "        precision = tp / (tp + fp)\n",
    "\n",
    "        result[\"index\"].append(i)\n",
    "        result[\"recall\"].append(recall)\n",
    "        result[\"precision\"].append(precision)\n",
    "    \n",
    "    return actual,prediction"
   ]
  },
  {
   "cell_type": "markdown",
   "metadata": {},
   "source": [
    "## Calculate Metrics"
   ]
  },
  {
   "cell_type": "code",
   "execution_count": 8,
   "metadata": {},
   "outputs": [],
   "source": [
    "cm = confusion_matrix(actual,prediction)\n",
    "tn, fp, fn, tp =  [i for i in cm.ravel() if i != 0]\n",
    "recall = tp / (tp + fn)       \n",
    "precision = tp / (tp + fp)"
   ]
  },
  {
   "cell_type": "code",
   "execution_count": 9,
   "metadata": {},
   "outputs": [
    {
     "name": "stdout",
     "output_type": "stream",
     "text": [
      "Results for mrpc dataset:\n",
      "Recall: 0.6198779424585876\n",
      "Precision: 0.7383177570093458\n"
     ]
    }
   ],
   "source": [
    "print('Results for mrpc dataset:')\n",
    "print(f'Recall: {recall}')\n",
    "print(f'Precision: {precision}')"
   ]
  },
  {
   "cell_type": "code",
   "execution_count": null,
   "metadata": {},
   "outputs": [],
   "source": []
  }
 ],
 "metadata": {
  "kernelspec": {
   "display_name": "NLP2",
   "language": "python",
   "name": "python3"
  },
  "language_info": {
   "codemirror_mode": {
    "name": "ipython",
    "version": 3
   },
   "file_extension": ".py",
   "mimetype": "text/x-python",
   "name": "python",
   "nbconvert_exporter": "python",
   "pygments_lexer": "ipython3",
   "version": "3.8.19"
  }
 },
 "nbformat": 4,
 "nbformat_minor": 2
}
